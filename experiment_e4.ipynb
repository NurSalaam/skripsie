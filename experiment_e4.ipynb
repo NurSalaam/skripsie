{
 "cells": [
  {
   "cell_type": "code",
   "execution_count": 2,
   "metadata": {},
   "outputs": [],
   "source": [
    "import pandas as pd\n",
    "import numpy as np\n",
    "import re\n",
    "from lof import LocalOutlierFactor\n",
    "from isolation_forest import IsolationForest\n",
    "from kmeans import KMeans\n",
    "from matrix_profile import MatrixProfile\n",
    "\n",
    "def instantiate_models(model_names):\n",
    "    models = []\n",
    "    \n",
    "    for name in model_names:\n",
    "        if match := re.match(r'lof_w(\\d+)_n(\\d+)', name):\n",
    "            window_size, neighbors = map(int, match.groups())\n",
    "            models.append(LocalOutlierFactor(windowSize=window_size, neighbors=neighbors))\n",
    "        \n",
    "        elif match := re.match(r'if_w(\\d+)_n(\\d+)', name):\n",
    "            window_size, n_estimators = map(int, match.groups())\n",
    "            models.append(IsolationForest(windowSize=window_size, n_estimators=n_estimators))\n",
    "        \n",
    "        elif match := re.match(r'km_w(\\d+)_k(\\d+)', name):\n",
    "            window_size, n_clusters = map(int, match.groups())\n",
    "            models.append(KMeans(windowSize=window_size, n_clusters=n_clusters))\n",
    "        \n",
    "        elif match := re.match(r'mp_w(\\d+)', name):\n",
    "            window_size = int(match.group(1))\n",
    "            models.append(MatrixProfile(windowSize=window_size))\n",
    "        \n",
    "        else:\n",
    "            raise ValueError(f\"Unknown or improperly formatted model name: {name}\")\n",
    "    \n",
    "    return models\n",
    "\n",
    "# Example usage:\n",
    "# best_models = instantiate_models(best_models_output['Best Model'])\n",
    "\n",
    "# For testing:\n",
    "# custom_model_names = ['lof_w100_n20', 'if_w50_n100', 'km_w200_k50', 'mp_w150']\n",
    "# custom_models = instantiate_models(custom_model_names)"
   ]
  },
  {
   "cell_type": "code",
   "execution_count": 4,
   "metadata": {},
   "outputs": [],
   "source": [
    "best_models_df = pd.read_csv('final_visualisations/experiment_1/best_models_by_anomaly_type.csv')\n",
    "best_models = instantiate_models(best_models_df['Best Model'])\n"
   ]
  },
  {
   "cell_type": "code",
   "execution_count": null,
   "metadata": {},
   "outputs": [],
   "source": []
  }
 ],
 "metadata": {
  "language_info": {
   "name": "python"
  }
 },
 "nbformat": 4,
 "nbformat_minor": 2
}
